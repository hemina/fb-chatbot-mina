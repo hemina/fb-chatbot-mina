{
 "cells": [
  {
   "cell_type": "code",
   "execution_count": 2,
   "metadata": {
    "collapsed": true
   },
   "outputs": [],
   "source": [
    "import os\n",
    "import sys\n",
    "import aiml\n",
    "import requests\n",
    "from flask import Flask, request\n",
    "import urllib, json\n",
    "import pandas as pd\n",
    "import re, unicodedata, time\n",
    "import pickle\n",
    "\n",
    "url = \"http://bnp-ip-onecms-api.bearstech.com/push/fundsearchv2/PV_FR-IND/FRE\"\n",
    "url_base = \"http://www.bnpparibas-ip.fr/investisseur-prive-particulier/fundsheet/\"\n",
    "\n",
    "app = Flask(__name__)\n",
    "\n",
    "\n",
    "@app.route('/', methods=['GET'])\n",
    "def verify():\n",
    "    # when the endpoint is registered as a webhook, it must echo back\n",
    "    # the 'hub.challenge' value it receives in the query arguments\n",
    "    if request.args.get(\"hub.mode\") == \"subscribe\" and request.args.get(\"hub.challenge\"):\n",
    "        if not request.args.get(\"hub.verify_token\") == os.environ[\"VERIFY_TOKEN\"]:\n",
    "            return \"Verification token mismatch\", 403\n",
    "        return request.args[\"hub.challenge\"], 200\n",
    "\n",
    "    return \"Hello world\", 200"
   ]
  },
  {
   "cell_type": "code",
   "execution_count": 11,
   "metadata": {
    "collapsed": true
   },
   "outputs": [],
   "source": [
    "@app.route('/', methods=['POST'])\n",
    "def webhook():\n",
    "\n",
    "    # endpoint for processing incoming messaging events\n",
    "\n",
    "    data = request.get_json()\n",
    "    log(data)  # you may not want to log every incoming message in production, but it's good for testing\n",
    "\n",
    "    if data[\"object\"] == \"page\":\n",
    "\n",
    "        for entry in data[\"entry\"]:\n",
    "            for messaging_event in entry[\"messaging\"]:\n",
    "\n",
    "                if messaging_event.get(\"message\"):  # someone sent us a message\n",
    "\n",
    "                    sender_id = messaging_event[\"sender\"][\"id\"]        # the facebook ID of the person sending you the message\n",
    "                    recipient_id = messaging_event[\"recipient\"][\"id\"]  # the recipient's ID, which should be your page's facebook ID\n",
    "                    try:\n",
    "                        message_text = messaging_event[\"message\"][\"text\"]  # the message's text\n",
    "\n",
    "                    except KeyError:\n",
    "                        message_text = \"smile\"\n",
    "\n",
    "                    kernel = aiml.Kernel()\n",
    "\n",
    "                    if os.path.isfile(\"bot_brain.brn\"):\n",
    "                        kernel.bootstrap(brainFile = \"bot_brain.brn\")\n",
    "                    else:\n",
    "                        kernel.bootstrap(learnFiles = os.path.abspath(\"aiml/std-startup.xml\"))#, commands = \"load aiml b\"\n",
    "                        kernel.saveBrain(\"bot_brain.brn\")\n",
    "\n",
    "                    # kernel now ready for use\n",
    "                    bot_response = kernel.respond(message_text, sender_id)\n",
    "\n",
    "                    send_message(sender_id, bot_response)\n",
    "\n",
    "                if messaging_event.get(\"delivery\"):  # delivery confirmation\n",
    "                    pass\n",
    "\n",
    "                if messaging_event.get(\"optin\"):  # optin confirmation\n",
    "                    pass\n",
    "\n",
    "                if messaging_event.get(\"postback\"):  # user clicked/tapped \"postback\" button in earlier message\n",
    "                    pass\n",
    "\n",
    "    return \"ok\", 200"
   ]
  },
  {
   "cell_type": "code",
   "execution_count": 12,
   "metadata": {
    "collapsed": true
   },
   "outputs": [],
   "source": [
    "def send_message(recipient_id, message_text):\n",
    "\n",
    "    log(\"sending message to {recipient}: {text}\".format(recipient=recipient_id, text=message_text))\n",
    "\n",
    "    params = {\n",
    "        \"access_token\": os.environ[\"PAGE_ACCESS_TOKEN\"]\n",
    "    }\n",
    "    headers = {\n",
    "        \"Content-Type\": \"application/json\"\n",
    "    }\n",
    "    data = json.dumps({\n",
    "        \"recipient\": {\n",
    "            \"id\": recipient_id\n",
    "        },\n",
    "        \"message\": {\n",
    "            \"text\": message_text\n",
    "        }\n",
    "    })\n",
    "    r = requests.post(\"https://graph.facebook.com/v2.6/me/messages\", params=params, headers=headers, data=data)\n",
    "    if r.status_code != 200:\n",
    "        log(r.status_code)\n",
    "        log(r.text)\n",
    "\n",
    "\n",
    "def log(message):  # simple wrapper for logging to stdout on heroku\n",
    "    print str(message)\n",
    "    sys.stdout.flush()"
   ]
  },
  {
   "cell_type": "code",
   "execution_count": 1,
   "metadata": {
    "collapsed": false
   },
   "outputs": [
    {
     "ename": "NameError",
     "evalue": "name 'request' is not defined",
     "output_type": "error",
     "traceback": [
      "\u001b[0;31m---------------------------------------------------------------------------\u001b[0m",
      "\u001b[0;31mNameError\u001b[0m                                 Traceback (most recent call last)",
      "\u001b[0;32m<ipython-input-1-14770c5c7d40>\u001b[0m in \u001b[0;36m<module>\u001b[0;34m()\u001b[0m\n\u001b[0;32m----> 1\u001b[0;31m \u001b[0mrequest\u001b[0m\u001b[0;34m.\u001b[0m\u001b[0mget_json\u001b[0m\u001b[0;34m(\u001b[0m\u001b[0;34m)\u001b[0m\u001b[0;34m\u001b[0m\u001b[0m\n\u001b[0m",
      "\u001b[0;31mNameError\u001b[0m: name 'request' is not defined"
     ]
    }
   ],
   "source": [
    "request.get_json()"
   ]
  },
  {
   "cell_type": "code",
   "execution_count": null,
   "metadata": {
    "collapsed": true
   },
   "outputs": [],
   "source": []
  }
 ],
 "metadata": {
  "anaconda-cloud": {},
  "kernelspec": {
   "display_name": "Python 2",
   "language": "python",
   "name": "python2"
  },
  "language_info": {
   "codemirror_mode": {
    "name": "ipython",
    "version": 2
   },
   "file_extension": ".py",
   "mimetype": "text/x-python",
   "name": "python",
   "nbconvert_exporter": "python",
   "pygments_lexer": "ipython2",
   "version": "2.7.12"
  }
 },
 "nbformat": 4,
 "nbformat_minor": 1
}
