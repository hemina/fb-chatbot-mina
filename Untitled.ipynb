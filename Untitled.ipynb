{
 "cells": [
  {
   "cell_type": "code",
   "execution_count": 3,
   "metadata": {
    "collapsed": false
   },
   "outputs": [
    {
     "name": "stdout",
     "output_type": "stream",
     "text": [
      "/Users/hemina/coding/fb-chatbot-mina/aiml_fr\n",
      "/Users/hemina/coding/fb-chatbot-mina/aiml_fr/aiml-std-fr\n",
      "atomique.aiml\n",
      "* A PLU * RENCONTRER\n",
      "ce fut agréable pour moi aussi, \n",
      "atomique.aiml\n",
      "HEUREUX DE TE RENCONTRER\n",
      "c'était agréable pour moi aussi. \n",
      "atomique.aiml\n",
      "JE SUIS LA\n",
      "moi aussi, je suis là. \n",
      "atomique.aiml\n",
      "JE SUIS LÀ\n",
      "moi aussi, je suis toujours là. \n",
      "atomique.aiml\n",
      "MOI AUSSI\n",
      "je suis heureuse que nous soyons d'accord, \n",
      "atomique.aiml\n",
      "TOI AUSSI INTERROGATION\n",
      "oui, moi aussi \n",
      "atomique.aiml\n",
      "TU RESSEMBLES A UNE HORLOGE\n",
      "c'est bien tout le regard de gens le même à moi aussi. \n",
      "cest.aiml\n",
      "C EST BIEN\n",
      "Ok. Pour moi aussi. Merci.\n",
      "cest.aiml\n",
      "C ETAIT CHOUETTE DE TE PARLER\n",
      "Merci, j ai apprécié moi aussi.\n",
      "cest.aiml\n",
      "C ETAIT CHOUETTE DE VOUS PARLER\n",
      "Merci, j ai apprécié moi aussi.\n",
      "cest.aiml\n",
      "CELA SEMBLE *\n",
      "il me semble semble être comme cela à moi aussi. \n",
      "comment.aiml\n",
      "COMMENT IRONIQUE\n",
      "Il semble que la voie à moi aussi. \n",
      "D.aiml\n",
      "DINGUE\n",
      "Ca m épate moi aussi.\n",
      "I.aiml\n",
      "INCROYABLE\n",
      "Ca m épate moi aussi.\n",
      "prefixes.aiml\n",
      "JE FAIS *\n",
      "c'est drôle, moi aussi. \n",
      "reponses.aiml\n",
      "J ESPÈRE\n",
      "oui, moi aussi. \n",
      "srai.aiml\n",
      "MOI AUSSI *\n",
      "\n",
      "\n",
      "\n",
      "that-questions.aiml\n",
      "VERT\n",
      "moi aussi j'ai les yeux \n",
      "that-questions.aiml\n",
      "* VERT\n",
      "moi aussi j'ai les yeux \n",
      "that-questions.aiml\n",
      "VERT\n",
      "moi aussi j'ai les yeux \n",
      "that-questions.aiml\n",
      "* VERT\n",
      "moi aussi j'ai les yeux \n",
      "that-questions.aiml\n",
      "VERT\n",
      "moi aussi j'ai les yeux \n",
      "that-questions.aiml\n",
      "* VERT\n",
      "moi aussi j'ai les yeux \n",
      "that-questions.aiml\n",
      "VERT\n",
      "moi aussi j'ai les yeux \n",
      "that-questions.aiml\n",
      "* VERT\n",
      "moi aussi j'ai les yeux \n",
      "that.aiml\n",
      "MOI AUSSI\n",
      "None\n",
      "/Users/hemina/coding/fb-chatbot-mina/aiml_fr/french_aiml_publish\n",
      "atomique_ed.aiml\n",
      "* A PLU * RENCONTRER\n",
      "ce fut agréable pour moi aussi, \n",
      "atomique_ed.aiml\n",
      "HEUREUX DE TE RENCONTRER\n",
      "c'était agréable pour moi aussi. \n",
      "atomique_ed.aiml\n",
      "JE SUIS LA\n",
      "moi aussi, je suis là. \n",
      "atomique_ed.aiml\n",
      "JE SUIS LÀ\n",
      "moi aussi, je suis toujours là. \n",
      "atomique_ed.aiml\n",
      "MOI AUSSI\n",
      "je suis heureuse que nous soyons d'accord, \n",
      "atomique_ed.aiml\n",
      "TOI AUSSI INTERROGATION\n",
      "oui, moi aussi \n",
      "atomique_ed.aiml\n",
      "TU RESSEMBLES A UNE HORLOGE\n",
      "c'est bien tout le regard de gens le même à moi aussi. \n",
      "comment_ed.aiml\n",
      "COMMENT IRONIQUE\n",
      "Il semble que la voie à moi aussi. \n",
      "srai_ed.aiml\n",
      "MOI AUSSI *\n",
      "\n",
      "\n",
      "\n",
      "that_ed.aiml\n",
      "MOI AUSSI\n",
      "None\n"
     ]
    }
   ],
   "source": [
    "import os\n",
    "import xml.etree.ElementTree as ET\n",
    "\n",
    "rootdir1=os.getcwd()+\"/aiml/standard\"\n",
    "rootdir2=os.getcwd()+\"/aiml_fr\"\n",
    "\n",
    "to_be_search = 'moi aussi'\n",
    "\n",
    "for root, dirnames, filenames in os.walk( rootdir2 ):\n",
    "    print root\n",
    "    for filename in filenames:\n",
    "        #print filename\n",
    "        if filename.endswith(\".aiml\"):\n",
    "            try:\n",
    "                tree = ET.parse(os.path.join(root,filename))\n",
    "                root1 = tree.getroot()\n",
    "    #             print root1.findall(\"./category/pattern\")\n",
    "                for category in root1.findall('category'):\n",
    "                    pattern = category.find('pattern').text\n",
    "                    template = category.find('template').text\n",
    "\n",
    "                    if pattern:      \n",
    "                        if pattern.find(to_be_search.upper())!= -1:\n",
    "                            print filename\n",
    "                            print pattern\n",
    "                            print template\n",
    "\n",
    "                    if template:      \n",
    "                        if template.find(to_be_search)!= -1:\n",
    "                            print filename\n",
    "                            print pattern\n",
    "                            print template      \n",
    "            except:\n",
    "                pass"
   ]
  },
  {
   "cell_type": "code",
   "execution_count": 89,
   "metadata": {
    "collapsed": false
   },
   "outputs": [
    {
     "data": {
      "text/html": [
       "<div>\n",
       "<table border=\"1\" class=\"dataframe\">\n",
       "  <thead>\n",
       "    <tr style=\"text-align: right;\">\n",
       "      <th></th>\n",
       "      <th>answers</th>\n",
       "      <th>id</th>\n",
       "      <th>order</th>\n",
       "      <th>question_type</th>\n",
       "      <th>survey_id</th>\n",
       "      <th>titles</th>\n",
       "    </tr>\n",
       "  </thead>\n",
       "  <tbody>\n",
       "    <tr>\n",
       "      <th>0</th>\n",
       "      <td>[{u'risk': None, u'funds_list_name': None, u'i...</td>\n",
       "      <td>19</td>\n",
       "      <td>0</td>\n",
       "      <td>amount</td>\n",
       "      <td>5</td>\n",
       "      <td>{u'de_DE': u'Combien voulez vous retirer mensu...</td>\n",
       "    </tr>\n",
       "    <tr>\n",
       "      <th>1</th>\n",
       "      <td>[{u'risk': None, u'funds_list_name': None, u'i...</td>\n",
       "      <td>20</td>\n",
       "      <td>1</td>\n",
       "      <td>horizon</td>\n",
       "      <td>5</td>\n",
       "      <td>{u'de_DE': u'Dans combien de temps pensez vous...</td>\n",
       "    </tr>\n",
       "    <tr>\n",
       "      <th>2</th>\n",
       "      <td>[{u'risk': 0.03, u'funds_list_name': None, u'i...</td>\n",
       "      <td>22</td>\n",
       "      <td>2</td>\n",
       "      <td>risks</td>\n",
       "      <td>5</td>\n",
       "      <td>{u'de_DE': u'What degree of risk can you take ...</td>\n",
       "    </tr>\n",
       "    <tr>\n",
       "      <th>3</th>\n",
       "      <td>[{u'risk': None, u'funds_list_name': u'Generic...</td>\n",
       "      <td>21</td>\n",
       "      <td>3</td>\n",
       "      <td>investment_options</td>\n",
       "      <td>5</td>\n",
       "      <td>{u'de_DE': u'Do you want to include specific f...</td>\n",
       "    </tr>\n",
       "  </tbody>\n",
       "</table>\n",
       "</div>"
      ],
      "text/plain": [
       "                                             answers  id  order  \\\n",
       "0  [{u'risk': None, u'funds_list_name': None, u'i...  19      0   \n",
       "1  [{u'risk': None, u'funds_list_name': None, u'i...  20      1   \n",
       "2  [{u'risk': 0.03, u'funds_list_name': None, u'i...  22      2   \n",
       "3  [{u'risk': None, u'funds_list_name': u'Generic...  21      3   \n",
       "\n",
       "        question_type  survey_id  \\\n",
       "0              amount          5   \n",
       "1             horizon          5   \n",
       "2               risks          5   \n",
       "3  investment_options          5   \n",
       "\n",
       "                                              titles  \n",
       "0  {u'de_DE': u'Combien voulez vous retirer mensu...  \n",
       "1  {u'de_DE': u'Dans combien de temps pensez vous...  \n",
       "2  {u'de_DE': u'What degree of risk can you take ...  \n",
       "3  {u'de_DE': u'Do you want to include specific f...  "
      ]
     },
     "execution_count": 89,
     "metadata": {},
     "output_type": "execute_result"
    }
   ],
   "source": [
    "import json\n",
    "import pandas as pd\n",
    "\n",
    "question_file1 = 'other_project'\n",
    "question_file2 = 'just_invest'\n",
    "question_file3 = 'retirement'\n",
    "\n",
    "with open('data/'+question_file3+'.json') as json_data_file:\n",
    "    data = json.load(json_data_file)\n",
    "    \n",
    "df = pd.DataFrame(data['questions'])\n",
    "df"
   ]
  },
  {
   "cell_type": "code",
   "execution_count": 85,
   "metadata": {
    "collapsed": true
   },
   "outputs": [],
   "source": [
    "def check_data(question_file):\n",
    "    with open('data/'+question_file+'.json') as json_data_file:\n",
    "        data = json.load(json_data_file)   \n",
    "    df = pd.DataFrame(data['questions'])    \n",
    "    #print df\n",
    "    tmp = df[['titles']]['titles']\n",
    "    for i in xrange(len(tmp)):\n",
    "        print tmp[i]['en_GB']\n",
    "    print \"----------------------------\"\n",
    "    tmp = df[['answers']]['answers']\n",
    "    for i in xrange(len(tmp)):\n",
    "        #print tmp[i]\n",
    "        print tmp[i][0]['titles']['en_GB']   \n",
    "    print \"----------------------------\"\n",
    "    print \"----------------------------\"\n",
    "    print \"----------------------------\""
   ]
  },
  {
   "cell_type": "code",
   "execution_count": 86,
   "metadata": {
    "collapsed": false
   },
   "outputs": [
    {
     "name": "stdout",
     "output_type": "stream",
     "text": [
      "How much do you want to finance with this investment?\n",
      "When do you want to finance your projet?\n",
      "What is your risk appetence?\n",
      "Do you want to include specific funds in your portfolio?\n",
      "----------------------------\n",
      "Expected amount\n",
      "Years\n",
      "Very low: I want to invest my money as securely as possible. My Chances of gains are therefore lower, as are my risks of losses.\n",
      "No.\n",
      "----------------------------\n",
      "----------------------------\n",
      "----------------------------\n",
      "How much do you want to invest?\n",
      "What is your investment timeline?\n",
      "What is your risk appetence?\n",
      "Do you want to include specific funds in your portfolio?\n",
      "----------------------------\n",
      "Amount to invest now\n",
      "Years\n",
      "Very low: I want to invest my money as securely as possible. My Chances of gains are therefore lower, as are my risks of losses.\n",
      "No\n",
      "----------------------------\n",
      "----------------------------\n",
      "----------------------------\n",
      "How much are you willing to pay every month for your retirement supplement ?\n",
      "By when do you want to retire ?\n",
      "What degree of risk can you take with your investment?\n",
      "Do you want to include specific funds in your portfolio?\n",
      "----------------------------\n",
      "Retirement supplement amount:\n",
      "Years\n",
      "Very low : I want to invest my money as securely as possible. My Chances of gains are therefore lower, as are my risks of losses.\n",
      "No.\n",
      "----------------------------\n",
      "----------------------------\n",
      "----------------------------\n"
     ]
    }
   ],
   "source": [
    "check_data(question_file1)\n",
    "check_data(question_file2)\n",
    "check_data(question_file3)"
   ]
  },
  {
   "cell_type": "code",
   "execution_count": 83,
   "metadata": {
    "collapsed": false
   },
   "outputs": [
    {
     "name": "stdout",
     "output_type": "stream",
     "text": [
      "How much do you want to finance with this investment?\n",
      "When do you want to finance your projet?\n",
      "What is your risk appetence?\n",
      "Do you want to include specific funds in your portfolio?\n",
      "----------------------------\n",
      "[{u'risk': None, u'funds_list_name': None, u'input_type': u'text', u'picto': None, u'titles': {u'de_DE': u'Expected amount', u'fr_FR': u'Montant attendu', u'en_GB': u'Expected amount'}, u'answer_type': u'expected_amount', u'id': 126, u'question_id': 17}]\n",
      "Expected amount\n",
      "[{u'risk': None, u'funds_list_name': None, u'input_type': u'radio', u'picto': None, u'titles': {u'de_DE': u'Years', u'fr_FR': u\"Nombre d'ann\\xe9es avant la r\\xe9alisation du projet\", u'en_GB': u'Years'}, u'answer_type': None, u'id': 167, u'question_id': 15}]\n",
      "Years\n",
      "[{u'risk': 0.03, u'funds_list_name': None, u'input_type': u'radio', u'picto': None, u'titles': {u'de_DE': u'Very low: I want to invest my money as securely as possible. My Chances of gains are therefore lower, as are my risks of losses.', u'fr_FR': u'Tr\\xe8s faible: Je veux investir mon argent de la mani\\xe8re la plus s\\xe9curis\\xe9e possible. Mes chances de gains et de pertes seront donc moins importantes.', u'en_GB': u'Very low: I want to invest my money as securely as possible. My Chances of gains are therefore lower, as are my risks of losses.'}, u'answer_type': None, u'id': 103, u'question_id': 16}, {u'risk': 0.06, u'funds_list_name': None, u'input_type': u'radio', u'picto': None, u'titles': {u'de_DE': u'Low: I am prepared to take a few risks in order to increase my chances of gains.', u'fr_FR': u'Faible: Je suis pr\\xeat \\xe0 prendre quelques risques pour augmenter mes chances de gains.', u'en_GB': u'Low: I am prepared to take a few risks in order to increase my chances of gains.'}, u'answer_type': None, u'id': 104, u'question_id': 16}, {u'risk': 0.09, u'funds_list_name': None, u'input_type': u'radio', u'picto': None, u'titles': {u'de_DE': u'Moderate: I believe my chances for gains are higher than the likelihood of losing a proportion of my money. For this reason I can also accept a moderate level of risk.', u'fr_FR': u\"Moyenne: J'estime mes chances de gains sup\\xe9rieures \\xe0 mes possibilit\\xe9s de pertes. Pour cette raison, je suis pr\\xeat \\xe0 accepter un niveau de risque mod\\xe9r\\xe9.\", u'en_GB': u'Moderate: I believe my chances for gains are higher than the likelihood of losing a proportion of my money. For this reason I can also accept a moderate level of risk.'}, u'answer_type': None, u'id': 105, u'question_id': 16}, {u'risk': 0.12, u'funds_list_name': None, u'input_type': u'radio', u'picto': None, u'titles': {u'de_DE': u'High: I want to significantly increase my chances of gains and so knowingly take the risk and accept the risk that I might lose money in long term.', u'fr_FR': u\"Forte: Je veux significativement augmenter mes chances de gains et donc prendre et accepter le risque que je puisse perdre de l'argent sur le long terme.\", u'en_GB': u'High: I want to significantly increase my chances of gains and so knowingly take the risk and accept the risk that I might lose money in long term.'}, u'answer_type': None, u'id': 106, u'question_id': 16}, {u'risk': 0.15, u'funds_list_name': None, u'input_type': u'radio', u'picto': None, u'titles': {u'de_DE': u'Very high: I want to increase my chances of gains as much as possible', u'fr_FR': u'Tr\\xe8s forte: Je veux augmenter mes chances de gains autant que possible', u'en_GB': u'Very high: I want to increase my chances of gains as much as possible'}, u'answer_type': None, u'id': 107, u'question_id': 16}]\n",
      "Very low: I want to invest my money as securely as possible. My Chances of gains are therefore lower, as are my risks of losses.\n",
      "[{u'risk': None, u'funds_list_name': u'Generic-1', u'input_type': u'radio', u'picto': None, u'titles': {u'de_DE': u'No.', u'fr_FR': u'Non.', u'en_GB': u'No.'}, u'answer_type': None, u'id': 202, u'question_id': 18}, {u'risk': None, u'funds_list_name': u'ISR5', u'input_type': u'radio', u'picto': None, u'titles': {u'de_DE': u'Yes, I want to include social and responsible investment.', u'fr_FR': u'Oui, je veux inclure des fonds responsables.', u'en_GB': u'Yes, I want to include social and responsible investment.'}, u'answer_type': None, u'id': 203, u'question_id': 18}, {u'risk': None, u'funds_list_name': u'smids6', u'input_type': u'radio', u'picto': None, u'titles': {u'de_DE': u'Yes, I want to include small caps funds.', u'fr_FR': u'Oui, je souhaite int\\xe9grer des fonds finan\\xe7ant les petites et moyennes entreprises.', u'en_GB': u'Yes, I want to include small caps funds.'}, u'answer_type': None, u'id': 204, u'question_id': 18}, {u'risk': None, u'funds_list_name': u'etf10', u'input_type': u'radio', u'picto': None, u'titles': {u'de_DE': u'Yes I want only ETF in my portfolio.', u'fr_FR': u'Oui, je ne souhaite que des ETFs dans mon portefeuille.', u'en_GB': u'Yes I want only ETFs in my portfolio.'}, u'answer_type': None, u'id': 205, u'question_id': 18}]\n",
      "No.\n",
      "----------------------------\n",
      "----------------------------\n",
      "----------------------------\n",
      "How much do you want to invest?\n",
      "What is your investment timeline?\n",
      "What is your risk appetence?\n",
      "Do you want to include specific funds in your portfolio?\n",
      "----------------------------\n",
      "[{u'risk': None, u'funds_list_name': None, u'input_type': u'text', u'picto': None, u'titles': {u'de_DE': u'Amount to invest now', u'fr_FR': u'Montant \\xe0 investir d\\xe8s maintenant', u'en_GB': u'Amount to invest now'}, u'answer_type': u'initial_amount', u'id': 118, u'question_id': 1}, {u'risk': None, u'funds_list_name': None, u'input_type': u'text', u'picto': None, u'titles': {u'de_DE': u'additional monthly amount', u'fr_FR': u'Montant mensuel compl\\xe9mentaire', u'en_GB': u'additional monthly amount'}, u'answer_type': u'monthly_amount', u'id': 119, u'question_id': 1}]\n",
      "Amount to invest now\n",
      "[{u'risk': None, u'funds_list_name': None, u'input_type': u'text', u'picto': None, u'titles': {u'de_DE': u'Years', u'fr_FR': u\"Nombre d'ann\\xe9es\", u'en_GB': u'Years'}, u'answer_type': None, u'id': 124, u'question_id': 4}]\n",
      "Years\n",
      "[{u'risk': 0.03, u'funds_list_name': None, u'input_type': u'radio', u'picto': None, u'titles': {u'de_DE': u'Very low: I want to invest my money as securely as possible. My Chances of gains are therefore lower, as are my risks of losses.', u'fr_FR': u'Tr\\xe8s faible: Je veux investir mon argent de la mani\\xe8re la plus s\\xe9curis\\xe9e possible. Mes chances de gains et de pertes seront donc moins importantes.', u'en_GB': u'Very low: I want to invest my money as securely as possible. My Chances of gains are therefore lower, as are my risks of losses.'}, u'answer_type': None, u'id': 113, u'question_id': 2}, {u'risk': 0.06, u'funds_list_name': None, u'input_type': u'radio', u'picto': None, u'titles': {u'de_DE': u'Low: I am prepared to take a few risks in order to increase my chances of gains.', u'fr_FR': u'Faible: Je suis pr\\xeat \\xe0 prendre quelques risques pour augmenter mes chances de gains.', u'en_GB': u'Low: I am prepared to take a few risks in order to increase my chances of gains.'}, u'answer_type': None, u'id': 114, u'question_id': 2}, {u'risk': 0.09, u'funds_list_name': None, u'input_type': u'radio', u'picto': None, u'titles': {u'de_DE': u'Moderate: I believe my chances for gains are higher than the likelihood of losing a proportion of my money. For this reason I can also accept a moderate level of risk.', u'fr_FR': u\"Moyenne: J'estime mes chances de gains sup\\xe9rieures \\xe0 mes possibilit\\xe9s de pertes. Pour cette raison, je suis pr\\xeat \\xe0 accepter un niveau de risque mod\\xe9r\\xe9.\", u'en_GB': u'Moderate: I believe my chances for gains are higher than the likelihood of losing a proportion of my money. For this reason I can also accept a moderate level of risk.'}, u'answer_type': None, u'id': 115, u'question_id': 2}, {u'risk': 0.12, u'funds_list_name': None, u'input_type': u'radio', u'picto': None, u'titles': {u'de_DE': u'High: I want to significantly increase my chances of gains and so knowingly take the risk and accept the risk that I might lose money in long term.', u'fr_FR': u\"Forte: Je veux significativement augmenter mes chances de gains et donc prendre et accepter le risque que je puisse perdre de l'argent sur le long terme.\", u'en_GB': u'High: I want to significantly increase my chances of gains and so knowingly take the risk and accept the risk that I might lose money in long term.'}, u'answer_type': None, u'id': 116, u'question_id': 2}, {u'risk': 0.15, u'funds_list_name': None, u'input_type': u'radio', u'picto': None, u'titles': {u'de_DE': u'Very high: I want to increase my chances of gains as much as possible', u'fr_FR': u'Tr\\xe8s forte: Je veux augmenter mes chances de gains autant que possible', u'en_GB': u'Very high: I want to increase my chances of gains as much as possible'}, u'answer_type': None, u'id': 117, u'question_id': 2}]\n",
      "Very low: I want to invest my money as securely as possible. My Chances of gains are therefore lower, as are my risks of losses.\n",
      "[{u'risk': None, u'funds_list_name': u'Generic-1', u'input_type': u'radio', u'picto': u'no', u'titles': {u'de_DE': u'No', u'fr_FR': u'Non', u'en_GB': u'No'}, u'answer_type': u'', u'id': 214, u'question_id': 3}, {u'risk': None, u'funds_list_name': u'ISR5', u'input_type': u'radio', u'picto': u'responsible', u'titles': {u'de_DE': u'Yes, I want to include social and responsible investment', u'fr_FR': u'Oui, je veux inclure des fonds responsables', u'en_GB': u'Yes, I want to include social and responsible investment'}, u'answer_type': None, u'id': 215, u'question_id': 3}, {u'risk': None, u'funds_list_name': u'smids6', u'input_type': u'radio', u'picto': u'small_caps', u'titles': {u'de_DE': u'Yes, I want to include small caps funds', u'fr_FR': u'Oui, je souhaite int\\xe9grer des fonds finan\\xe7ant les petites et moyennes entreprises', u'en_GB': u'Yes, I want to include small caps funds'}, u'answer_type': None, u'id': 216, u'question_id': 3}, {u'risk': None, u'funds_list_name': u'etf10', u'input_type': u'radio', u'picto': u'etf', u'titles': {u'de_DE': u'Yes I want only ETF in my portfolio', u'fr_FR': u'Oui, je ne souhaite que des ETF dans mon portefeuille', u'en_GB': u'Yes I want only ETF in my portfolio'}, u'answer_type': None, u'id': 217, u'question_id': 3}]\n",
      "No\n",
      "----------------------------\n",
      "----------------------------\n",
      "----------------------------\n",
      "How much are you willing to pay every month for your retirement supplement ?\n",
      "By when do you want to retire ?\n",
      "What degree of risk can you take with your investment?\n",
      "Do you want to include specific funds in your portfolio?\n",
      "----------------------------\n",
      "[{u'risk': None, u'funds_list_name': None, u'input_type': u'text', u'picto': None, u'titles': {u'de_DE': u'Montant retir\\xe9:', u'fr_FR': u'Compl\\xe9ment de retraite mensuel :', u'en_GB': u'Retirement supplement amount:'}, u'answer_type': u'expected_amount', u'id': 176, u'question_id': 19}]\n",
      "Retirement supplement amount:\n",
      "[{u'risk': None, u'funds_list_name': None, u'input_type': u'text', u'picto': None, u'titles': {u'de_DE': u\"Nombre d'ann\\xe9es\", u'fr_FR': u\"Nombre d'ann\\xe9es\", u'en_GB': u'Years'}, u'answer_type': None, u'id': 175, u'question_id': 20}]\n",
      "Years\n",
      "[{u'risk': 0.03, u'funds_list_name': None, u'input_type': u'radio', u'picto': None, u'titles': {u'de_DE': u'Very low : I want to invest my money as securely as possible. My Chances of gains are therefore lower, as are my risks of losses.', u'fr_FR': u'Tr\\xe8s faible : Je veux investir mon argent de la mani\\xe8re la plus s\\xe9curis\\xe9e possible. Mes chances de gains et de pertes seront donc moins importantes.', u'en_GB': u'Very low : I want to invest my money as securely as possible. My Chances of gains are therefore lower, as are my risks of losses.'}, u'answer_type': None, u'id': 137, u'question_id': 22}, {u'risk': 0.06, u'funds_list_name': None, u'input_type': u'radio', u'picto': None, u'titles': {u'de_DE': u'Low : I am prepared to take a few risks in order to increase my chances of gains.', u'fr_FR': u'Faible : Je suis pr\\xeat \\xe0 prendre quelques risques pour augmenter mes chances de gains.', u'en_GB': u'Low : I am prepared to take a few risks in order to increase my chances of gains.'}, u'answer_type': None, u'id': 138, u'question_id': 22}, {u'risk': 0.09, u'funds_list_name': None, u'input_type': u'radio', u'picto': None, u'titles': {u'de_DE': u'Moderate : I believe my chances for gains are higher than the likelihood of losing a proportion of my money. For this reason I can also accept a moderate level of risk.', u'fr_FR': u\"Moyenne : J'estime mes chances de gains sup\\xe9rieures \\xe0 mes possibilit\\xe9s de pertes. Pour cette raison, je suis pr\\xeat \\xe0 accepter un niveau de risque mod\\xe9r\\xe9.\", u'en_GB': u'Moderate : I believe my chances for gains are higher than the likelihood of losing a proportion of my money. For this reason I can also accept a moderate level of risk.'}, u'answer_type': None, u'id': 139, u'question_id': 22}, {u'risk': 0.12, u'funds_list_name': None, u'input_type': u'radio', u'picto': None, u'titles': {u'de_DE': u'High : I want to significantly increase my chances of gains and so knowingly take the risk and accept the risk that I might lose money in long term.', u'fr_FR': u\"Forte : Je veux significativement augmenter mes chances de gains et donc prendre et accepter le risque que je puisse perdre de l'argent sur le long terme.\", u'en_GB': u'High : I want to significantly increase my chances of gains and so knowingly take the risk and accept the risk that I might lose money in long term.'}, u'answer_type': None, u'id': 140, u'question_id': 22}, {u'risk': 0.15, u'funds_list_name': None, u'input_type': u'radio', u'picto': None, u'titles': {u'de_DE': u'Very high : I want to increase my chances of gains as much as possible', u'fr_FR': u'Tr\\xe8s forte : Je veux augmenter mes chances de gains autant que possible', u'en_GB': u'Very high : I want to increase my chances of gains as much as possible'}, u'answer_type': None, u'id': 141, u'question_id': 22}]\n",
      "Very low : I want to invest my money as securely as possible. My Chances of gains are therefore lower, as are my risks of losses.\n",
      "[{u'risk': None, u'funds_list_name': u'Generic-1', u'input_type': u'radio', u'picto': None, u'titles': {u'de_DE': u'No.', u'fr_FR': u'Non.', u'en_GB': u'No.'}, u'answer_type': None, u'id': 198, u'question_id': 21}, {u'risk': None, u'funds_list_name': u'ISR5', u'input_type': u'radio', u'picto': None, u'titles': {u'de_DE': u'Yes, I want to include social and responsible investment.', u'fr_FR': u'Oui, je veux inclure des fonds responsables.', u'en_GB': u'Yes, I want to include social and responsible investment.'}, u'answer_type': None, u'id': 199, u'question_id': 21}, {u'risk': None, u'funds_list_name': u'smids6', u'input_type': u'radio', u'picto': None, u'titles': {u'de_DE': u'Yes, I want to include small caps funds.', u'fr_FR': u'Oui, je souhaite int\\xe9grer des fonds finan\\xe7ant les petites et moyennes entreprises.', u'en_GB': u'Yes, I want to include small caps funds.'}, u'answer_type': None, u'id': 200, u'question_id': 21}, {u'risk': None, u'funds_list_name': u'etf10', u'input_type': u'radio', u'picto': None, u'titles': {u'de_DE': u'Yes I want only ETF in my portfolio.', u'fr_FR': u'Oui, je ne souhaite que des ETFs dans mon portefeuille.', u'en_GB': u'Yes I want only ETFs in my portfolio.'}, u'answer_type': None, u'id': 201, u'question_id': 21}]\n",
      "No.\n",
      "----------------------------\n",
      "----------------------------\n",
      "----------------------------\n"
     ]
    }
   ],
   "source": [
    "check_data(question_file1)\n",
    "check_data(question_file2)\n",
    "check_data(question_file3)"
   ]
  },
  {
   "cell_type": "code",
   "execution_count": 63,
   "metadata": {
    "collapsed": false
   },
   "outputs": [
    {
     "data": {
      "text/html": [
       "<div>\n",
       "<table border=\"1\" class=\"dataframe\">\n",
       "  <thead>\n",
       "    <tr style=\"text-align: right;\">\n",
       "      <th></th>\n",
       "      <th>answers</th>\n",
       "      <th>id</th>\n",
       "      <th>order</th>\n",
       "      <th>question_type</th>\n",
       "      <th>survey_id</th>\n",
       "      <th>titles</th>\n",
       "    </tr>\n",
       "  </thead>\n",
       "  <tbody>\n",
       "    <tr>\n",
       "      <th>0</th>\n",
       "      <td>[{u'risk': None, u'funds_list_name': None, u'i...</td>\n",
       "      <td>17</td>\n",
       "      <td>0</td>\n",
       "      <td>amount</td>\n",
       "      <td>4</td>\n",
       "      <td>{u'de_DE': u'How much do you want to finance w...</td>\n",
       "    </tr>\n",
       "    <tr>\n",
       "      <th>1</th>\n",
       "      <td>[{u'risk': None, u'funds_list_name': None, u'i...</td>\n",
       "      <td>15</td>\n",
       "      <td>1</td>\n",
       "      <td>horizon</td>\n",
       "      <td>4</td>\n",
       "      <td>{u'de_DE': u'When do you want to finance your ...</td>\n",
       "    </tr>\n",
       "    <tr>\n",
       "      <th>2</th>\n",
       "      <td>[{u'risk': 0.03, u'funds_list_name': None, u'i...</td>\n",
       "      <td>16</td>\n",
       "      <td>2</td>\n",
       "      <td>risks</td>\n",
       "      <td>4</td>\n",
       "      <td>{u'de_DE': u'What is your risk appetence?', u'...</td>\n",
       "    </tr>\n",
       "    <tr>\n",
       "      <th>3</th>\n",
       "      <td>[{u'risk': None, u'funds_list_name': u'Generic...</td>\n",
       "      <td>18</td>\n",
       "      <td>3</td>\n",
       "      <td>investment_options</td>\n",
       "      <td>4</td>\n",
       "      <td>{u'de_DE': u'Do you want to include specific f...</td>\n",
       "    </tr>\n",
       "  </tbody>\n",
       "</table>\n",
       "</div>"
      ],
      "text/plain": [
       "                                             answers  id  order  \\\n",
       "0  [{u'risk': None, u'funds_list_name': None, u'i...  17      0   \n",
       "1  [{u'risk': None, u'funds_list_name': None, u'i...  15      1   \n",
       "2  [{u'risk': 0.03, u'funds_list_name': None, u'i...  16      2   \n",
       "3  [{u'risk': None, u'funds_list_name': u'Generic...  18      3   \n",
       "\n",
       "        question_type  survey_id  \\\n",
       "0              amount          4   \n",
       "1             horizon          4   \n",
       "2               risks          4   \n",
       "3  investment_options          4   \n",
       "\n",
       "                                              titles  \n",
       "0  {u'de_DE': u'How much do you want to finance w...  \n",
       "1  {u'de_DE': u'When do you want to finance your ...  \n",
       "2  {u'de_DE': u'What is your risk appetence?', u'...  \n",
       "3  {u'de_DE': u'Do you want to include specific f...  "
      ]
     },
     "execution_count": 63,
     "metadata": {},
     "output_type": "execute_result"
    }
   ],
   "source": [
    "df = pd.DataFrame(data['questions'])\n",
    "df"
   ]
  },
  {
   "cell_type": "code",
   "execution_count": 67,
   "metadata": {
    "collapsed": false
   },
   "outputs": [
    {
     "name": "stdout",
     "output_type": "stream",
     "text": [
      "How much do you want to finance with this investment?\n",
      "When do you want to finance your projet?\n",
      "What is your risk appetence?\n",
      "Do you want to include specific funds in your portfolio?\n"
     ]
    }
   ],
   "source": [
    "tmp = df[['titles']]['titles']\n",
    "\n",
    "for i in xrange(len(tmp)):\n",
    "    print tmp[i]['en_GB']"
   ]
  },
  {
   "cell_type": "code",
   "execution_count": 75,
   "metadata": {
    "collapsed": false
   },
   "outputs": [
    {
     "name": "stdout",
     "output_type": "stream",
     "text": [
      "Expected amount\n",
      "Years\n",
      "Very low: I want to invest my money as securely as possible. My Chances of gains are therefore lower, as are my risks of losses.\n",
      "No.\n"
     ]
    }
   ],
   "source": [
    "tmp = df[['answers']]['answers']\n",
    "for i in xrange(len(tmp)):\n",
    "    print tmp[i][0]['titles']['en_GB']"
   ]
  },
  {
   "cell_type": "code",
   "execution_count": 90,
   "metadata": {
    "collapsed": true
   },
   "outputs": [],
   "source": [
    "def load_questions(question_file):  \n",
    "  questions = {}\n",
    "  with open('data/'+question_file+'.json') as json_data_file:\n",
    "      data = json.load(json_data_file)   \n",
    "  df = pd.DataFrame(data['questions'])    \n",
    "\n",
    "  tmp = df[['titles']]['titles']\n",
    "  for i in xrange(len(tmp)):\n",
    "    questions[i] = tmp[i]['en_GB']\n",
    "  return questions"
   ]
  },
  {
   "cell_type": "code",
   "execution_count": 91,
   "metadata": {
    "collapsed": false
   },
   "outputs": [
    {
     "data": {
      "text/plain": [
       "{0: u'How much do you want to finance with this investment?',\n",
       " 1: u'When do you want to finance your projet?',\n",
       " 2: u'What is your risk appetence?',\n",
       " 3: u'Do you want to include specific funds in your portfolio?'}"
      ]
     },
     "execution_count": 91,
     "metadata": {},
     "output_type": "execute_result"
    }
   ],
   "source": [
    "\n",
    "load_questions(question_file1)"
   ]
  },
  {
   "cell_type": "code",
   "execution_count": null,
   "metadata": {
    "collapsed": true
   },
   "outputs": [],
   "source": []
  }
 ],
 "metadata": {
  "anaconda-cloud": {},
  "kernelspec": {
   "display_name": "Python 2",
   "language": "python",
   "name": "python2"
  },
  "language_info": {
   "codemirror_mode": {
    "name": "ipython",
    "version": 2
   },
   "file_extension": ".py",
   "mimetype": "text/x-python",
   "name": "python",
   "nbconvert_exporter": "python",
   "pygments_lexer": "ipython2",
   "version": "2.7.12"
  }
 },
 "nbformat": 4,
 "nbformat_minor": 1
}
